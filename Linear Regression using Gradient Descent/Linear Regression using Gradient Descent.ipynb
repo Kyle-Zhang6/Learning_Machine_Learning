{
 "cells": [
  {
   "cell_type": "markdown",
   "metadata": {},
   "source": [
    "## Linear Regression using Gradient Descent\n",
    "#### 03/08/2020"
   ]
  },
  {
   "cell_type": "code",
   "execution_count": 1,
   "metadata": {},
   "outputs": [],
   "source": [
    "import numpy as np\n",
    "import matplotlib.pyplot as plt"
   ]
  },
  {
   "cell_type": "code",
   "execution_count": 2,
   "metadata": {},
   "outputs": [],
   "source": [
    "# Initiate dataset\n",
    "x = np.asarray([1,2,3])\n",
    "y = np.asarray([3,2,1])"
   ]
  },
  {
   "cell_type": "code",
   "execution_count": 3,
   "metadata": {},
   "outputs": [],
   "source": [
    "# Define a machine learning class\n",
    "# Includes computational graph, with methods like forward and backward\n",
    "# Apply MSE as loss function\n",
    "class ML():\n",
    "    cptgraph_w = []\n",
    "    cptgraph_b = []\n",
    "    \n",
    "    def forward(self,x):\n",
    "        # Updating computation graph\n",
    "        self.cptgraph_w = []\n",
    "        self.cptgraph_b = []\n",
    "        self.cptgraph_w.append(x)\n",
    "        self.cptgraph_w.append(1)\n",
    "        self.cptgraph_b.append(1)\n",
    "        # Return\n",
    "        return w*x+b\n",
    "\n",
    "    def backward(self):\n",
    "        # Calculate the gradient according to computation graph \n",
    "        dw = 1\n",
    "        db = 1\n",
    "        for i in self.cptgraph_w:\n",
    "            dw *= i\n",
    "        for i in self.cptgraph_b:\n",
    "            db *= i\n",
    "        return dw,db\n",
    "\n",
    "    def loss(self,y,y_pred):\n",
    "        self.cptgraph_w.append(1)\n",
    "        self.cptgraph_w.append(2*(y_pred-y))\n",
    "        self.cptgraph_b.append(1)\n",
    "        self.cptgraph_b.append(2*(y_pred-y))\n",
    "        return (y-y_pred)**2"
   ]
  },
  {
   "cell_type": "code",
   "execution_count": 4,
   "metadata": {},
   "outputs": [],
   "source": [
    "w = 0\n",
    "b = 0\n",
    "loss_list = [] # To save loss after each iteration"
   ]
  },
  {
   "cell_type": "code",
   "execution_count": 5,
   "metadata": {},
   "outputs": [
    {
     "data": {
      "image/png": "[encoded data removed]",
      "text/plain": [
       "<Figure size 432x288 with 1 Axes>"
      ]
     },
     "metadata": {
      "needs_background": "light"
     },
     "output_type": "display_data"
    }
   ],
   "source": [
    "lr = 0.05\n",
    "running_loss = 0\n",
    "ml = ML()\n",
    "for e in range(1000):\n",
    "    for i in range(len(x)):\n",
    "        y_pred = ml.forward(x[i])\n",
    "        loss = ml.loss(y[i],y_pred)\n",
    "        dw,db = ml.backward()\n",
    "        w -= dw*lr\n",
    "        b -= db*lr\n",
    "        running_loss += loss\n",
    "    #print('epoch NO.{}\\tloss = {}'.format(e,running_loss/len(x)))\n",
    "    loss_list.append(running_loss/len(x))\n",
    "    running_loss = 0\n",
    "    \n",
    "plt.plot(loss_list)\n",
    "plt.xlabel('epoch')\n",
    "plt.ylabel('loss')\n",
    "plt.grid()"
   ]
  },
  {
   "cell_type": "code",
   "execution_count": 6,
   "metadata": {},
   "outputs": [
    {
     "name": "stdout",
     "output_type": "stream",
     "text": [
      "3.9999999999999902 -0.9999999999999967\n"
     ]
    }
   ],
   "source": [
    "print(b,w)"
   ]
  }
 ],
 "metadata": {
  "kernelspec": {
   "display_name": "Python 3",
   "language": "python",
   "name": "python3"
  },
  "language_info": {
   "codemirror_mode": {
    "name": "ipython",
    "version": 3
   },
   "file_extension": ".py",
   "mimetype": "text/x-python",
   "name": "python",
   "nbconvert_exporter": "python",
   "pygments_lexer": "ipython3",
   "version": "3.8.5"
  }
 },
 "nbformat": 4,
 "nbformat_minor": 4
}
