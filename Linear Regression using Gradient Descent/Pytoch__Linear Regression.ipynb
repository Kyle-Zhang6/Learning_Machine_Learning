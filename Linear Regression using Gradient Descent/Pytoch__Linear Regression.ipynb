{
 "cells": [
  {
   "cell_type": "markdown",
   "metadata": {},
   "source": [
    "## Applying Pytorch to achieve regression\n",
    "#### 03/08/2020"
   ]
  },
  {
   "cell_type": "code",
   "execution_count": 1,
   "metadata": {},
   "outputs": [],
   "source": [
    "import torch\n",
    "import numpy as np\n",
    "import matplotlib.pyplot as plt"
   ]
  },
  {
   "cell_type": "markdown",
   "metadata": {},
   "source": [
    "### Initiate data\n",
    "#### There should be $y = w[2]*x^2+w[1]*x+w[0]$\n",
    "#### So tensor w ought to requires auto grad"
   ]
  },
  {
   "cell_type": "code",
   "execution_count": 2,
   "metadata": {},
   "outputs": [],
   "source": [
    "x = torch.tensor([1.0,2.0,3.0])\n",
    "y = torch.tensor([3.0,2.0,1.0])\n",
    "w = torch.tensor([0.0,0.0,0.0])\n",
    "w.requires_grad = True\n",
    "\n",
    "loss_list = []"
   ]
  },
  {
   "cell_type": "code",
   "execution_count": 3,
   "metadata": {},
   "outputs": [],
   "source": [
    "def forward(x):\n",
    "    return w[0]+w[1]*x+w[2]*x*x\n",
    "\n",
    "def loss(y,y_pred):\n",
    "    return (y_pred-y)**2"
   ]
  },
  {
   "cell_type": "code",
   "execution_count": 4,
   "metadata": {},
   "outputs": [
    {
     "name": "stdout",
     "output_type": "stream",
     "text": [
      "Start Training...\n",
      "tensor([ 3.9921e+00, -9.9147e-01, -1.9080e-03])\n"
     ]
    },
    {
     "data": {
      "image/png": "[encoded data removed]",
      "text/plain": [
       "<Figure size 432x288 with 1 Axes>"
      ]
     },
     "metadata": {
      "needs_background": "light"
     },
     "output_type": "display_data"
    }
   ],
   "source": [
    "print('Start Training...')\n",
    "lr = 0.01\n",
    "\n",
    "running_loss = 0\n",
    "for e in range(10000):\n",
    "    for i in range(len(x)):\n",
    "        y_pred = forward(x[i])\n",
    "        l = loss(y[i],y_pred)\n",
    "        l.backward()\n",
    "        w.data -= w.grad.data * lr\n",
    "        running_loss += l.item()\n",
    "        \n",
    "        w.grad.data.zero_()\n",
    "    #print('epoch NO.{}\\tloss = {}\\t\\t{}'.format(e,running_loss/len(x),w.data))\n",
    "    loss_list.append(running_loss/3)\n",
    "    running_loss = 0\n",
    "    \n",
    "plt.plot(loss_list)\n",
    "print(w.data)"
   ]
  },
  {
   "cell_type": "code",
   "execution_count": null,
   "metadata": {},
   "outputs": [],
   "source": []
  }
 ],
 "metadata": {
  "kernelspec": {
   "display_name": "Python 3",
   "language": "python",
   "name": "python3"
  },
  "language_info": {
   "codemirror_mode": {
    "name": "ipython",
    "version": 3
   },
   "file_extension": ".py",
   "mimetype": "text/x-python",
   "name": "python",
   "nbconvert_exporter": "python",
   "pygments_lexer": "ipython3",
   "version": "3.8.5"
  }
 },
 "nbformat": 4,
 "nbformat_minor": 4
}
