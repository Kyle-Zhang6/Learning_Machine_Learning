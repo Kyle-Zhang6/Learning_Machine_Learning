{
 "cells": [
  {
   "cell_type": "markdown",
   "metadata": {},
   "source": [
    "## Apply Linear Module and optimizer from Pytorch to achieve linear regression\n",
    "#### 04/08/2020"
   ]
  },
  {
   "cell_type": "code",
   "execution_count": 1,
   "metadata": {},
   "outputs": [],
   "source": [
    "import torch\n",
    "from torch import nn,optim\n",
    "import matplotlib.pyplot as plt"
   ]
  },
  {
   "cell_type": "markdown",
   "metadata": {},
   "source": [
    "### Define one module for linear regression"
   ]
  },
  {
   "cell_type": "code",
   "execution_count": 2,
   "metadata": {},
   "outputs": [],
   "source": [
    "class Net(nn.Module):\n",
    "    def __init__(self):\n",
    "        super(Net,self).__init__()\n",
    "        self.fc = nn.Linear(1,1)\n",
    "        \n",
    "    def forward(self,x):\n",
    "        y_pred = self.fc(x)\n",
    "        return y_pred"
   ]
  },
  {
   "cell_type": "markdown",
   "metadata": {},
   "source": [
    "### Applying MSELoss and Adam optimizer with learning rate being 0.01"
   ]
  },
  {
   "cell_type": "code",
   "execution_count": 3,
   "metadata": {},
   "outputs": [],
   "source": [
    "criterion = nn.MSELoss()\n",
    "net_Adam = Net()\n",
    "net_SGD = Net()\n",
    "net_RMSprop = Net()\n",
    "\n",
    "Adam_optimizer = optim.Adam(net_Adam.parameters(),lr=0.01)\n",
    "SGD_optimizer = optim.SGD(net_SGD.parameters(),lr=0.01)\n",
    "RMSprop_optimizer = optim.RMSprop(net_RMSprop.parameters(),lr=0.01)"
   ]
  },
  {
   "cell_type": "markdown",
   "metadata": {},
   "source": [
    "### Input dataset has to be tensor\n",
    "### And it has to be matrix but not a vector"
   ]
  },
  {
   "cell_type": "code",
   "execution_count": 4,
   "metadata": {},
   "outputs": [
    {
     "name": "stdout",
     "output_type": "stream",
     "text": [
      "tensor([[1.],\n",
      "        [2.],\n",
      "        [3.]])\n"
     ]
    }
   ],
   "source": [
    "x = torch.tensor([[1.0],[2.0],[3.0]])\n",
    "x.t()\n",
    "y = torch.tensor([[3.0],[2.0],[1.0]])\n",
    "y.t()\n",
    "\n",
    "loss_list_Adam = []\n",
    "loss_list_SGD = []\n",
    "loss_list_RMSprop = []\n",
    "print(x)"
   ]
  },
  {
   "cell_type": "markdown",
   "metadata": {},
   "source": [
    "## Something to be aware of:\n",
    "- For a module, there are two modes: training mode as well as evaluation mode\n",
    "so when training, use net.train() to note that its training; and net.eval() to note its evaluation\n",
    "- Before backward, make sure that the optimizer has zero_grad()ed\n",
    "unless some special requirement exist"
   ]
  },
  {
   "cell_type": "code",
   "execution_count": 5,
   "metadata": {},
   "outputs": [
    {
     "data": {
      "text/plain": [
       "<matplotlib.legend.Legend at 0x25d1eda7b80>"
      ]
     },
     "execution_count": 5,
     "metadata": {},
     "output_type": "execute_result"
    },
    {
     "data": {
      "image/png": "[encoded data removed]",
      "text/plain": [
       "<Figure size 432x288 with 1 Axes>"
      ]
     },
     "metadata": {
      "needs_background": "light"
     },
     "output_type": "display_data"
    }
   ],
   "source": [
    "for e in range(1000):\n",
    "    net_Adam.train()\n",
    "    \n",
    "    Adam_optimizer.zero_grad()\n",
    "    y_pred = net_Adam(x)\n",
    "    loss = criterion(y_pred,y)\n",
    "    \n",
    "    loss.backward()\n",
    "    Adam_optimizer.step()\n",
    "    loss_list_Adam.append(loss.item())\n",
    "    \n",
    "for e in range(1000):\n",
    "    net_SGD.train()\n",
    "    \n",
    "    SGD_optimizer.zero_grad()\n",
    "    y_pred = net_SGD(x)\n",
    "    loss = criterion(y_pred,y)\n",
    "    \n",
    "    loss.backward()\n",
    "    SGD_optimizer.step()\n",
    "    loss_list_SGD.append(loss.item())\n",
    "    \n",
    "for e in range(1000):\n",
    "    net_RMSprop.train()\n",
    "    \n",
    "    RMSprop_optimizer.zero_grad()\n",
    "    y_pred = net_RMSprop(x)\n",
    "    loss = criterion(y_pred,y)\n",
    "    \n",
    "    loss.backward()\n",
    "    RMSprop_optimizer.step()\n",
    "    loss_list_RMSprop.append(loss.item())\n",
    "    \n",
    "plt.plot(loss_list_Adam,label='Adam')\n",
    "plt.plot(loss_list_RMSprop,label='RMSprop')\n",
    "plt.plot(loss_list_SGD,label='SGD')\n",
    "plt.legend()"
   ]
  },
  {
   "cell_type": "markdown",
   "metadata": {},
   "source": [
    "### As we can see, the time taken to get convergence for those three optimizers is different\n",
    "#### Adam > RMSprop > SGD"
   ]
  },
  {
   "cell_type": "code",
   "execution_count": 6,
   "metadata": {},
   "outputs": [
    {
     "name": "stdout",
     "output_type": "stream",
     "text": [
      "Adam:\t\t tensor([[ 1.9932,  0.0373, -1.9187]])\n",
      "RMSprop:\t tensor([[ 1.9853, -0.0246, -2.0345]])\n",
      "SGD:\t\t tensor([[ 1.9495,  0.3190, -1.3115]])\n"
     ]
    }
   ],
   "source": [
    "# Cast prediction\n",
    "net_Adam.eval()\n",
    "net_RMSprop.eval()\n",
    "net_SGD.eval()\n",
    "x_test = torch.tensor([[2.0],[4.0],[6.0]])\n",
    "print('Adam:\\t\\t',net_Adam(x_test).t().data)\n",
    "print('RMSprop:\\t',net_RMSprop(x_test).t().data)\n",
    "print('SGD:\\t\\t',net_SGD(x_test).t().data)"
   ]
  }
 ],
 "metadata": {
  "kernelspec": {
   "display_name": "Python 3",
   "language": "python",
   "name": "python3"
  },
  "language_info": {
   "codemirror_mode": {
    "name": "ipython",
    "version": 3
   },
   "file_extension": ".py",
   "mimetype": "text/x-python",
   "name": "python",
   "nbconvert_exporter": "python",
   "pygments_lexer": "ipython3",
   "version": "3.8.5"
  }
 },
 "nbformat": 4,
 "nbformat_minor": 4
}
