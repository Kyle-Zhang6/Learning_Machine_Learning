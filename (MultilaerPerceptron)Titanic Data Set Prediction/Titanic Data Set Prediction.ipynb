{
 "cells": [
  {
   "cell_type": "markdown",
   "metadata": {},
   "source": [
    "## Titanic Data Set Prediction\n",
    "__Downloaded from kaggle__\n",
    "\n",
    "05/08/2020"
   ]
  },
  {
   "cell_type": "code",
   "execution_count": 1,
   "metadata": {},
   "outputs": [],
   "source": [
    "import torch\n",
    "import numpy as np\n",
    "from torch import nn,optim\n",
    "from torch.utils.data import DataLoader,Dataset\n",
    "import matplotlib.pyplot as plt"
   ]
  },
  {
   "cell_type": "markdown",
   "metadata": {},
   "source": [
    "#### Two functions to process the initial data"
   ]
  },
  {
   "cell_type": "code",
   "execution_count": 2,
   "metadata": {},
   "outputs": [],
   "source": [
    "def dataConvert(data):\n",
    "    for i in range(len(data)):\n",
    "        if data[i]=='male':\n",
    "            data[i] = '1'\n",
    "        elif data[i]=='female':\n",
    "            data[i] = '0'\n",
    "    return data\n",
    "\n",
    "def fillBlank(data):\n",
    "    for i in range(len(data)):\n",
    "        if data[i]=='':\n",
    "            data[i] = 100000\n",
    "    return data"
   ]
  },
  {
   "cell_type": "markdown",
   "metadata": {},
   "source": [
    "#### Construct my own dataset and devided it into two parts: __training set & validation set__"
   ]
  },
  {
   "cell_type": "code",
   "execution_count": 3,
   "metadata": {},
   "outputs": [],
   "source": [
    "class MyDataset(Dataset):\n",
    "    def __init__(self,path):\n",
    "        data = np.loadtxt(path, delimiter=',',dtype=np.str, skiprows=1)\n",
    "        data[:,5] = dataConvert(data[:,5])\n",
    "        data[:,6] = fillBlank(data[:,10])\n",
    "        self.x_data = torch.from_numpy(data[:,[2,5,6,7,8,10]].astype(np.float32))\n",
    "        self.y_data = torch.from_numpy(data[:,1].astype(np.int64))\n",
    "        self.len = len(self.y_data)\n",
    "        \n",
    "    def __getitem__(self,index):\n",
    "        return self.x_data[index],self.y_data[index]\n",
    "    \n",
    "    def __len__(self):\n",
    "        return self.len\n",
    "    \n",
    "datas = MyDataset('train.csv')\n",
    "val_set_size = int(datas.len/5)\n",
    "train_set_size = datas.len - val_set_size\n",
    "train_set, val_set = torch.utils.data.random_split(datas,[train_set_size,val_set_size])\n",
    "\n",
    "train_loader = DataLoader(dataset=train_set, batch_size=8, shuffle=True)\n",
    "val_loader = DataLoader(dataset=val_set, batch_size=8, shuffle=True)"
   ]
  },
  {
   "cell_type": "markdown",
   "metadata": {},
   "source": [
    "#### Construct a Multilayer Perceptron to achieve machine learning\n",
    "##### Including several linear layers and apply dropout to prevent overfitting"
   ]
  },
  {
   "cell_type": "code",
   "execution_count": 4,
   "metadata": {},
   "outputs": [],
   "source": [
    "import torch.nn.functional as F\n",
    "\n",
    "class Model(nn.Module):\n",
    "    def __init__(self):\n",
    "        super(Model,self).__init__()\n",
    "        self.fc1 = nn.Linear(6,18)\n",
    "        self.fc2 = nn.Linear(18,64)\n",
    "        self.fc3 = nn.Linear(64,10)\n",
    "        self.fc4 = nn.Linear(10,4)\n",
    "        self.fc5 = nn.Linear(4,2)\n",
    "        self.dropout = nn.Dropout(0.2)\n",
    "        \n",
    "    def forward(self,x):\n",
    "        x = self.dropout(F.elu(self.fc1(x)))\n",
    "        x = self.dropout(F.elu(self.fc2(x)))\n",
    "        x = self.dropout(F.elu(self.fc3(x)))\n",
    "        x = self.dropout(F.elu(self.fc4(x)))\n",
    "        x = self.fc5(x)\n",
    "        return x\n",
    "    \n",
    "model = Model()"
   ]
  },
  {
   "cell_type": "code",
   "execution_count": 5,
   "metadata": {},
   "outputs": [],
   "source": [
    "criterion = nn.CrossEntropyLoss()\n",
    "optimizer = optim.Adam(model.parameters(),lr=0.0005)\n",
    "loss_list = []\n",
    "loss_list_val = []"
   ]
  },
  {
   "cell_type": "code",
   "execution_count": 12,
   "metadata": {},
   "outputs": [
    {
     "name": "stdout",
     "output_type": "stream",
     "text": [
      "epoch NO.0\tloss = 0.4668258294463158\ttest_loss = 0.39375494906435843\n",
      "epoch NO.1\tloss = 0.46882780955897435\ttest_loss = 0.4297351565050042\n",
      "epoch NO.2\tloss = 0.4518706201679177\ttest_loss = 0.4435365569332372\n",
      "epoch NO.3\tloss = 0.4380183315939373\ttest_loss = 0.3967190138671709\n",
      "epoch NO.4\tloss = 0.456928727361891\ttest_loss = 0.3942221186083296\n",
      "epoch NO.5\tloss = 0.44736722997493217\ttest_loss = 0.405096512125886\n",
      "epoch NO.6\tloss = 0.4488166831433773\ttest_loss = 0.4093465260837389\n",
      "epoch NO.7\tloss = 0.4439224794507027\ttest_loss = 0.395009051522483\n",
      "epoch NO.8\tloss = 0.46030619310008153\ttest_loss = 0.3995195536509804\n",
      "epoch NO.9\tloss = 0.4550591920812925\ttest_loss = 0.4303443587344626\n",
      "epoch NO.10\tloss = 0.463736012743579\ttest_loss = 0.4020849427451258\n",
      "epoch NO.11\tloss = 0.4589181454645263\ttest_loss = 0.4299700571143109\n",
      "epoch NO.12\tloss = 0.4541561974419488\ttest_loss = 0.4150223997624024\n",
      "epoch NO.13\tloss = 0.4703472332821952\ttest_loss = 0.40349424014920776\n",
      "epoch NO.14\tloss = 0.44841693888107936\ttest_loss = 0.4122267307146736\n",
      "epoch NO.15\tloss = 0.45035427858432137\ttest_loss = 0.40324935349433316\n",
      "epoch NO.16\tloss = 0.44031789153814316\ttest_loss = 0.3974158103051393\n",
      "epoch NO.17\tloss = 0.44867011341783736\ttest_loss = 0.4126509405348612\n",
      "epoch NO.18\tloss = 0.46535337583886255\ttest_loss = 0.4050675513951675\n",
      "epoch NO.19\tloss = 0.4437297667066256\ttest_loss = 0.3975724017490511\n",
      "epoch NO.20\tloss = 0.4419662755396631\ttest_loss = 0.39790677570778393\n",
      "epoch NO.21\tloss = 0.4594607960846689\ttest_loss = 0.39464283669772354\n",
      "epoch NO.22\tloss = 0.4747032829456859\ttest_loss = 0.3974951602842497\n",
      "epoch NO.23\tloss = 0.45524341861406964\ttest_loss = 0.4162421735084575\n",
      "epoch NO.24\tloss = 0.4588196277618408\ttest_loss = 0.40039303121359454\n",
      "epoch NO.25\tloss = 0.46513817873266006\ttest_loss = 0.40621191975863086\n",
      "epoch NO.26\tloss = 0.4597090005874634\ttest_loss = 0.3958956485857134\n",
      "epoch NO.27\tloss = 0.4491805247367463\ttest_loss = 0.4032114647004915\n",
      "epoch NO.28\tloss = 0.4472527830137147\ttest_loss = 0.4102827595627826\n",
      "epoch NO.29\tloss = 0.4428638365533617\ttest_loss = 0.4001718785451806\n",
      "epoch NO.30\tloss = 0.4558666671315829\ttest_loss = 0.3941069141678188\n",
      "epoch NO.31\tloss = 0.4694052403171857\ttest_loss = 0.4013400699781335\n",
      "epoch NO.32\tloss = 0.44964258554908965\ttest_loss = 0.3993342700211898\n",
      "epoch NO.33\tloss = 0.45762612397472063\ttest_loss = 0.3943804421502611\n",
      "epoch NO.34\tloss = 0.46619444141785304\ttest_loss = 0.40188769283501996\n",
      "epoch NO.35\tloss = 0.44885762259364126\ttest_loss = 0.4187894126643305\n",
      "epoch NO.36\tloss = 0.4406278331143161\ttest_loss = 0.4005618885807369\n",
      "epoch NO.37\tloss = 0.4483695165978538\ttest_loss = 0.39586099010446796\n",
      "epoch NO.38\tloss = 0.45443732523255875\ttest_loss = 0.40076511806767917\n",
      "epoch NO.39\tloss = 0.45672197134958376\ttest_loss = 0.4106001575355944\n",
      "epoch NO.40\tloss = 0.46583549885286224\ttest_loss = 0.3950187055313069\n",
      "epoch NO.41\tloss = 0.4598440849118762\ttest_loss = 0.40730919786121533\n",
      "epoch NO.42\tloss = 0.4563133639593919\ttest_loss = 0.39849809200867364\n",
      "epoch NO.43\tloss = 0.45928449713521535\ttest_loss = 0.42882956499638764\n",
      "epoch NO.44\tloss = 0.44977755174040795\ttest_loss = 0.41511879926142486\n",
      "epoch NO.45\tloss = 0.4716589343216684\ttest_loss = 0.40727753742881445\n",
      "epoch NO.46\tloss = 0.4591825183894899\ttest_loss = 0.4034847299689832\n",
      "epoch NO.47\tloss = 0.44547550992833246\ttest_loss = 0.39933349386505457\n",
      "epoch NO.48\tloss = 0.44847188683019745\ttest_loss = 0.39503562158864475\n",
      "epoch NO.49\tloss = 0.4457644149661064\ttest_loss = 0.4102509598369184\n",
      "epoch NO.50\tloss = 0.45401380467745994\ttest_loss = 0.3941528359832971\n",
      "epoch NO.51\tloss = 0.4547022725455463\ttest_loss = 0.42795931288729544\n",
      "epoch NO.52\tloss = 0.4370727688901954\ttest_loss = 0.3947876131405001\n",
      "epoch NO.53\tloss = 0.4469016037053532\ttest_loss = 0.39649388971536054\n",
      "epoch NO.54\tloss = 0.45337818140784897\ttest_loss = 0.39576853811740875\n",
      "epoch NO.55\tloss = 0.46622800529003144\ttest_loss = 0.3952434963506201\n",
      "epoch NO.56\tloss = 0.4542268097400665\ttest_loss = 0.39434498224569403\n",
      "epoch NO.57\tloss = 0.4488992663566023\ttest_loss = 0.39708761838467227\n",
      "epoch NO.58\tloss = 0.45471830997202134\ttest_loss = 0.3953101751597031\n",
      "epoch NO.59\tloss = 0.44308815225958825\ttest_loss = 0.39455572418544604\n",
      "epoch NO.60\tloss = 0.4429156659377946\ttest_loss = 0.39370301139095554\n",
      "epoch NO.61\tloss = 0.4524337899353769\ttest_loss = 0.3940972144836965\n",
      "epoch NO.62\tloss = 0.4574390035536554\ttest_loss = 0.40122421053440677\n",
      "epoch NO.63\tloss = 0.45442607940899\ttest_loss = 0.39444775328688\n",
      "epoch NO.64\tloss = 0.4475404350294007\ttest_loss = 0.3952628257481948\n",
      "epoch NO.65\tloss = 0.4501151316695743\ttest_loss = 0.39868269115686417\n",
      "epoch NO.66\tloss = 0.4525889231099023\ttest_loss = 0.39372871265463205\n",
      "epoch NO.67\tloss = 0.46142227459284996\ttest_loss = 0.3953433260321617\n",
      "epoch NO.68\tloss = 0.4472053911950853\ttest_loss = 0.39833332565815555\n",
      "epoch NO.69\tloss = 0.47357191774580215\ttest_loss = 0.42868945002555847\n",
      "epoch NO.70\tloss = 0.452440907423281\ttest_loss = 0.39194321567597595\n",
      "epoch NO.71\tloss = 0.4580175202753809\ttest_loss = 0.4000797987632129\n",
      "epoch NO.72\tloss = 0.4649206579559379\ttest_loss = 0.3922589780843776\n",
      "epoch NO.73\tloss = 0.45907970203293696\ttest_loss = 0.3910497368677803\n",
      "epoch NO.74\tloss = 0.4496762802203496\ttest_loss = 0.4021310961764792\n",
      "epoch NO.75\tloss = 0.4674608689215448\ttest_loss = 0.39137947591750516\n",
      "epoch NO.76\tloss = 0.4612161254717244\ttest_loss = 0.4558151461507963\n",
      "epoch NO.77\tloss = 0.45810570385720994\ttest_loss = 0.3949828789285991\n",
      "epoch NO.78\tloss = 0.44147977944877415\ttest_loss = 0.40759362345156464\n",
      "epoch NO.79\tloss = 0.44612467736005784\ttest_loss = 0.40047582206518756\n",
      "epoch NO.80\tloss = 0.4684458194507493\ttest_loss = 0.4249868360550507\n",
      "epoch NO.81\tloss = 0.4468500887354215\ttest_loss = 0.4075535069341245\n",
      "epoch NO.82\tloss = 0.4534945164289739\ttest_loss = 0.4283253148846004\n",
      "epoch NO.83\tloss = 0.4584465260306994\ttest_loss = 0.3963600332322328\n",
      "epoch NO.84\tloss = 0.45292458426621224\ttest_loss = 0.39243894815444946\n",
      "epoch NO.85\tloss = 0.4643531957434283\ttest_loss = 0.404141610407311\n",
      "epoch NO.86\tloss = 0.4458740616010295\ttest_loss = 0.40083660444487695\n",
      "epoch NO.87\tloss = 0.45994097077184254\ttest_loss = 0.39142751693725586\n",
      "epoch NO.88\tloss = 0.4719683938556247\ttest_loss = 0.3992043416137281\n",
      "epoch NO.89\tloss = 0.4785432724489106\ttest_loss = 0.4154432419201602\n",
      "epoch NO.90\tloss = 0.4432070917553372\ttest_loss = 0.40877231048501056\n",
      "epoch NO.91\tloss = 0.4567947695652644\ttest_loss = 0.39908906947011535\n",
      "epoch NO.92\tloss = 0.4488648352523645\ttest_loss = 0.39614861426146136\n",
      "epoch NO.93\tloss = 0.45153905583752524\ttest_loss = 0.4232951771953832\n",
      "epoch NO.94\tloss = 0.4687529255946477\ttest_loss = 0.3980450348361679\n",
      "epoch NO.95\tloss = 0.47354100429349477\ttest_loss = 0.3964656818172206\n",
      "epoch NO.96\tloss = 0.47834523850017124\ttest_loss = 0.40925824706969055\n",
      "epoch NO.97\tloss = 0.45719642870955995\ttest_loss = 0.3952645555786464\n",
      "epoch NO.98\tloss = 0.45441261505087216\ttest_loss = 0.393653088937635\n",
      "epoch NO.99\tloss = 0.4447449395407198\ttest_loss = 0.42785581752010016\n"
     ]
    }
   ],
   "source": [
    "optimizer = optim.Adam(model.parameters(),lr=0.0001)\n",
    "running_loss = 0\n",
    "for e in range(100):\n",
    "    for x,y in iter(train_loader):\n",
    "        model.train()\n",
    "        optimizer.zero_grad()\n",
    "        \n",
    "        y_pred = model(x)\n",
    "        loss = criterion(y_pred,y)\n",
    "        loss.backward()\n",
    "        optimizer.step()\n",
    "        running_loss += loss.item()\n",
    "        \n",
    "    loss_list.append(running_loss/len(train_loader))\n",
    "    running_loss = 0\n",
    "    \n",
    "    for x,y in iter(val_loader):\n",
    "        model.eval()\n",
    "        y_pred = model(x)\n",
    "        \n",
    "        loss = criterion(y_pred,y)\n",
    "        running_loss += loss.item()\n",
    "        \n",
    "    loss_list_val.append(running_loss/len(val_loader))\n",
    "    running_loss = 0\n",
    "    \n",
    "    print('epoch NO.{}\\tloss = {}\\ttest_loss = {}'.format(e,loss_list[-1],loss_list_val[-1]))"
   ]
  },
  {
   "cell_type": "code",
   "execution_count": 13,
   "metadata": {
    "scrolled": true
   },
   "outputs": [
    {
     "data": {
      "text/plain": [
       "Text(0, 0.5, 'loss')"
      ]
     },
     "execution_count": 13,
     "metadata": {},
     "output_type": "execute_result"
    },
    {
     "data": {
      "image/png": "[encoded data removed]",
      "text/plain": [
       "<Figure size 432x288 with 1 Axes>"
      ]
     },
     "metadata": {
      "needs_background": "light"
     },
     "output_type": "display_data"
    }
   ],
   "source": [
    "plt.plot(loss_list,label='train')\n",
    "plt.plot(loss_list_val, label='validation')\n",
    "plt.legend()\n",
    "plt.grid()\n",
    "plt.xlabel('epoch')\n",
    "plt.ylabel('loss')"
   ]
  },
  {
   "cell_type": "markdown",
   "metadata": {},
   "source": [
    "#### After training the model, now apply it to cast prediction on test set"
   ]
  },
  {
   "cell_type": "code",
   "execution_count": 14,
   "metadata": {
    "scrolled": true
   },
   "outputs": [],
   "source": [
    "testdata = MyDataset('./test.csv')\n",
    "model.eval()\n",
    "y_pred = model(testdata.x_data)\n",
    "pred = np.zeros(len(y_pred))\n",
    "\n",
    "for i in range(len(pred)):\n",
    "    if y_pred[i,0]>y_pred[i,1]:\n",
    "        pred[i] = int(0)\n",
    "    else:\n",
    "        pred[i] = int(1)\n",
    "        \n",
    "pred = pred.astype(np.int64)"
   ]
  },
  {
   "cell_type": "markdown",
   "metadata": {},
   "source": [
    "#### Save the prediction data"
   ]
  },
  {
   "cell_type": "code",
   "execution_count": 16,
   "metadata": {},
   "outputs": [],
   "source": [
    "pred_ = np.loadtxt('submission.csv', delimiter=',',dtype=np.str)\n",
    "pred_ = pred_[1:].astype(np.float32)\n",
    "pred_[:,1] = pred\n",
    "pred_ = pred_.astype(np.int64)\n",
    "np.savetxt('submission_.csv',pred_, delimiter=',',fmt='%d')"
   ]
  }
 ],
 "metadata": {
  "kernelspec": {
   "display_name": "Python 3",
   "language": "python",
   "name": "python3"
  },
  "language_info": {
   "codemirror_mode": {
    "name": "ipython",
    "version": 3
   },
   "file_extension": ".py",
   "mimetype": "text/x-python",
   "name": "python",
   "nbconvert_exporter": "python",
   "pygments_lexer": "ipython3",
   "version": "3.8.5"
  }
 },
 "nbformat": 4,
 "nbformat_minor": 4
}
