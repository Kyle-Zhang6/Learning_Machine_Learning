{
 "cells": [
  {
   "cell_type": "markdown",
   "metadata": {},
   "source": [
    "## CNN-MNIST Prediction\n",
    "#### 05/08/2020"
   ]
  },
  {
   "cell_type": "code",
   "execution_count": 1,
   "metadata": {},
   "outputs": [],
   "source": [
    "import numpy as np\n",
    "import torch\n",
    "import torchvision\n",
    "import torch.nn.functional as F\n",
    "from torch import nn,optim\n",
    "import matplotlib.pyplot as plt"
   ]
  },
  {
   "cell_type": "markdown",
   "metadata": {},
   "source": [
    "### Get the dataset through 'torchvision'\n",
    "### Use 'transforms' to process the raw data"
   ]
  },
  {
   "cell_type": "code",
   "execution_count": 2,
   "metadata": {},
   "outputs": [],
   "source": [
    "transform = torchvision.transforms.Compose([\n",
    "    torchvision.transforms.ToTensor(),\n",
    "    torchvision.transforms.Normalize([0.1307],[0.3081])\n",
    "])\n",
    "\n",
    "batchsize = 64\n",
    "\n",
    "trainset = torchvision.datasets.MNIST(root='./data', train=True, download=True, transform=transform)\n",
    "trainloader = torch.utils.data.DataLoader(trainset,batch_size=batchsize,shuffle=True,num_workers=2)\n",
    "testset = torchvision.datasets.MNIST(root='./data', train=False, download=True, transform=transform)\n",
    "testloader = torch.utils.data.DataLoader(testset, batch_size=batchsize, shuffle=True, num_workers=2)"
   ]
  },
  {
   "cell_type": "markdown",
   "metadata": {},
   "source": [
    "### Convolution, Pooling & Linear Layers; Dropout for preventing overfitting"
   ]
  },
  {
   "cell_type": "code",
   "execution_count": 3,
   "metadata": {},
   "outputs": [],
   "source": [
    "class Net(nn.Module):\n",
    "    def __init__(self):\n",
    "        super(Net,self).__init__()\n",
    "        self.conv1 = nn.Conv2d(1,4,5)\n",
    "        self.conv2 = nn.Conv2d(4,16,3)\n",
    "        self.pool = nn.MaxPool2d(2)\n",
    "        self.fc1 = nn.Linear(5*5*16,128)\n",
    "        self.fc2 = nn.Linear(128,32)\n",
    "        self.fc3 = nn.Linear(32,10)\n",
    "        self.dp2d = nn.Dropout2d(0.2)\n",
    "        self.dp1d = nn.Dropout(0.2)\n",
    "        \n",
    "    def forward(self,x):\n",
    "        batch_size = x.size()[0]\n",
    "        x = self.dp2d(self.pool(self.conv1(x)))\n",
    "        x = self.dp2d(self.pool(self.conv2(x)))\n",
    "        x = x.view(batch_size,-1)\n",
    "        x = self.dp1d(F.relu(self.fc1(x)))\n",
    "        x = self.dp1d(F.relu(self.fc2(x)))\n",
    "        x = self.fc3(x)\n",
    "        return x\n",
    "    \n",
    "net = Net()"
   ]
  },
  {
   "cell_type": "code",
   "execution_count": 4,
   "metadata": {},
   "outputs": [],
   "source": [
    "criterion = nn.CrossEntropyLoss()\n",
    "optimizer = optim.Adam(net.parameters(),lr=0.005)\n",
    "loss_list = []\n",
    "loss_list_test = []\n",
    "percentage = []"
   ]
  },
  {
   "cell_type": "markdown",
   "metadata": {},
   "source": [
    "### Every 10 epoches, we change the learning rate so that help train the net\n",
    "- From the very first beginning, set lr = 0.001;\n",
    "- Then reduce it to be 0.0003, 0.0001 and 0.00001"
   ]
  },
  {
   "cell_type": "code",
   "execution_count": 14,
   "metadata": {},
   "outputs": [
    {
     "name": "stdout",
     "output_type": "stream",
     "text": [
      "epoch NO.0\ttrainloss=0.04051\ttestloss=0.03419\t99.070%\n",
      "epoch NO.1\ttrainloss=0.03879\ttestloss=0.03403\t99.070%\n",
      "epoch NO.2\ttrainloss=0.03978\ttestloss=0.03397\t99.080%\n",
      "epoch NO.3\ttrainloss=0.03821\ttestloss=0.03404\t99.090%\n",
      "epoch NO.4\ttrainloss=0.04007\ttestloss=0.03404\t99.100%\n",
      "epoch NO.5\ttrainloss=0.03687\ttestloss=0.03404\t99.080%\n",
      "epoch NO.6\ttrainloss=0.03820\ttestloss=0.03393\t99.100%\n",
      "epoch NO.7\ttrainloss=0.03959\ttestloss=0.03404\t99.110%\n",
      "epoch NO.8\ttrainloss=0.03781\ttestloss=0.03560\t99.100%\n",
      "epoch NO.9\ttrainloss=0.03722\ttestloss=0.03387\t99.100%\n"
     ]
    }
   ],
   "source": [
    "optimizer = optim.Adam(net.parameters(),lr=0.00001)\n",
    "\n",
    "running_loss = 0\n",
    "for e in range(10):\n",
    "    for inputs,labels in iter(trainloader):\n",
    "        net.train()\n",
    "        optimizer.zero_grad()\n",
    "        \n",
    "        outputs = net(inputs)\n",
    "        loss = criterion(outputs,labels)\n",
    "        loss.backward()\n",
    "        optimizer.step()\n",
    "        \n",
    "        running_loss += loss.item()\n",
    "        \n",
    "    loss_list.append(running_loss/len(trainloader))\n",
    "    running_loss = 0\n",
    "    \n",
    "    total = 0\n",
    "    correct = 0\n",
    "    with torch.no_grad():\n",
    "        for inputs,labels in iter(testloader):\n",
    "            net.eval()\n",
    "            outputs = net(inputs)\n",
    "            _,predicted = torch.max(outputs,dim=1)\n",
    "            loss = criterion(outputs, labels)\n",
    "            running_loss += loss.item()\n",
    "            total += len(labels)\n",
    "            correct += (predicted==labels).sum().item()\n",
    "            \n",
    "        loss_list_test.append(running_loss/len(testloader))\n",
    "        percentage.append(correct/total)\n",
    "        running_loss = 0\n",
    "    \n",
    "    print('epoch NO.{}\\ttrainloss={:.5f}\\ttestloss={:.5f}\\t{:.3f}%'.format(e,loss_list[-1],loss_list_test[-1],percentage[-1]*100))"
   ]
  },
  {
   "cell_type": "markdown",
   "metadata": {},
   "source": [
    "### The acuracy is pretty good"
   ]
  },
  {
   "cell_type": "code",
   "execution_count": 15,
   "metadata": {},
   "outputs": [
    {
     "data": {
      "text/plain": [
       "Text(0, 0.5, 'loss')"
      ]
     },
     "execution_count": 15,
     "metadata": {},
     "output_type": "execute_result"
    },
    {
     "data": {
      "image/png": "[encoded data removed]",
      "text/plain": [
       "<Figure size 432x288 with 1 Axes>"
      ]
     },
     "metadata": {
      "needs_background": "light"
     },
     "output_type": "display_data"
    }
   ],
   "source": [
    "plt.plot(loss_list,label='train')\n",
    "plt.plot(loss_list_test,label='test')\n",
    "plt.legend()\n",
    "plt.grid()\n",
    "plt.xlabel('epoch')\n",
    "plt.ylabel('loss')"
   ]
  },
  {
   "cell_type": "code",
   "execution_count": 16,
   "metadata": {},
   "outputs": [
    {
     "data": {
      "image/png": "[encoded data removed]",
      "text/plain": [
       "<Figure size 432x288 with 1 Axes>"
      ]
     },
     "metadata": {
      "needs_background": "light"
     },
     "output_type": "display_data"
    }
   ],
   "source": [
    "plt.plot(percentage)\n",
    "plt.xlabel('epoch')\n",
    "plt.ylabel('Accuracy')\n",
    "plt.grid()"
   ]
  }
 ],
 "metadata": {
  "kernelspec": {
   "display_name": "Python 3",
   "language": "python",
   "name": "python3"
  },
  "language_info": {
   "codemirror_mode": {
    "name": "ipython",
    "version": 3
   },
   "file_extension": ".py",
   "mimetype": "text/x-python",
   "name": "python",
   "nbconvert_exporter": "python",
   "pygments_lexer": "ipython3",
   "version": "3.8.5"
  }
 },
 "nbformat": 4,
 "nbformat_minor": 4
}
